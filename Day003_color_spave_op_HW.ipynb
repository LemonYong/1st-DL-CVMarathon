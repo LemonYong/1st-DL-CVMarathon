{
 "cells": [
  {
   "cell_type": "code",
   "execution_count": 5,
   "metadata": {},
   "outputs": [],
   "source": [
    "import cv2\n",
    "import numpy as np\n",
    "\n",
    "\n",
    "img = cv2.imread('C:/Users/Joker/Desktop/lena.png',cv2.IMREAD_COLOR)\n"
   ]
  },
  {
   "cell_type": "code",
   "execution_count": 36,
   "metadata": {},
   "outputs": [],
   "source": [
    "img_hsv = cv2.cvtColor(img, cv2.COLOR_BGR2HSV)\n",
    "change_percentage = 0.2\n",
    "\n",
    "img_hsv_down = img_hsv.astype('float32')\n",
    "img_hsv_down[...,-1] = img_hsv_down[...,-1]/255-change_percentage\n",
    "img_hsv_down[img_hsv_down[...,-1]<0] = 0\n",
    "img_hsv_down[...,-1] = img_hsv_down[...,-1]*255\n",
    "img_hsv_down = img_hsv_down.astype('uint8') \n",
    "\n",
    "img_hsv_up = img_hsv.astype('float32')\n",
    "img_hsv_up[...,-1] = img_hsv_up[...,-1]/255+change_percentage\n",
    "img_hsv_up[img_hsv_up[...,-1]>1] = 1\n",
    "img_hsv_up[...,-1] = img_hsv_up[...,-1]*255\n",
    "img_hsv_up = img_hsv_up.astype('uint8') \n",
    "\n",
    "img_hsv_down = cv2.cvtColor(img_hsv_down,cv2.COLOR_HSV2BGR)\n",
    "img_hsv_up = cv2.cvtColor(img_hsv_up,cv2.COLOR_HSV2BGR)\n",
    "img_change = np.hstack((img,img_hsv_down,img_hsv_up))\n",
    "\n",
    "while True:\n",
    "    cv2.imshow('change saturation', img_change)\n",
    "    \n",
    "    k = cv2.waitKey(0)\n",
    "    if k == 27:\n",
    "        cv2.destroyAllWindows()\n",
    "        break"
   ]
  },
  {
   "cell_type": "code",
   "execution_count": 48,
   "metadata": {},
   "outputs": [],
   "source": [
    "img_B = cv2.equalizeHist(img[...,0])\n",
    "img_G = cv2.equalizeHist(img[...,1])\n",
    "img_R = cv2.equalizeHist(img[...,-1])\n",
    "img_bgr_equal = cv2.merge([img_B,img_G,img_R])\n",
    "\n",
    "\n",
    "img_hsv_equal[...,1] = cv2.equalizeHist(img_hsv[...,1])\n",
    "\n",
    "img_bgr_equalHist = np.hstack((img,img_bgr_equal,img_hsv_equal)) \n",
    "while True:\n",
    "    cv2.imshow('bgr equal histogram', img_bgr_equalHist)\n",
    "    k = cv2.waitKey(0)\n",
    "    if k == 27:\n",
    "        cv2.destroyAllWindows()\n",
    "        break"
   ]
  },
  {
   "cell_type": "code",
   "execution_count": 55,
   "metadata": {},
   "outputs": [],
   "source": [
    "add_contrast = cv2.convertScaleAbs(img,alpha=2.0,beta=0)\n",
    "add_lighness = cv2.convertScaleAbs(img,alpha=1.0,beta=150)\n",
    "\n",
    "img_contrast_light = np.hstack((img, add_contrast, add_lighness))\n",
    "while True:\n",
    "    # 比較不同程度的對比 / 明亮\n",
    "    cv2.imshow('adjust contrast and brighness', img_contrast_light)\n",
    "    k = cv2.waitKey(0)\n",
    "    if k == 27:\n",
    "        cv2.destroyAllWindows()\n",
    "        break\n"
   ]
  },
  {
   "cell_type": "code",
   "execution_count": null,
   "metadata": {},
   "outputs": [],
   "source": []
  },
  {
   "cell_type": "code",
   "execution_count": null,
   "metadata": {},
   "outputs": [],
   "source": []
  }
 ],
 "metadata": {
  "kernelspec": {
   "display_name": "Python 3",
   "language": "python",
   "name": "python3"
  },
  "language_info": {
   "codemirror_mode": {
    "name": "ipython",
    "version": 3
   },
   "file_extension": ".py",
   "mimetype": "text/x-python",
   "name": "python",
   "nbconvert_exporter": "python",
   "pygments_lexer": "ipython3",
   "version": "3.7.4"
  }
 },
 "nbformat": 4,
 "nbformat_minor": 2
}
