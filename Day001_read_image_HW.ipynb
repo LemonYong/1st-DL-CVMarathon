{
 "cells": [
  {
   "cell_type": "code",
   "execution_count": 2,
   "metadata": {},
   "outputs": [],
   "source": [
    "import cv2\n",
    "import numpy as np\n",
    "\n",
    "img = cv2.imread('C:/Users/Joker/Desktop/lena.png',cv2.IMREAD_COLOR)\n",
    "img_B = img[:,:,0]\n",
    "img_G = img[:,:,1]\n",
    "img_R = img[:,:,2]\n",
    "\n",
    "while True:\n",
    "    cv2.imshow('RBG-B',img_B)\n",
    "    cv2.imshow('RBG-G',img_G)\n",
    "    cv2.imshow('RBG-R',img_R)\n",
    "    k = cv2.waitKey(0)\n",
    "    if k == 27:\n",
    "        cv2.destroyAllWindows()\n",
    "        break"
   ]
  },
  {
   "cell_type": "code",
   "execution_count": 4,
   "metadata": {},
   "outputs": [
    {
     "name": "stdout",
     "output_type": "stream",
     "text": [
      "opencv版本:4.1.2\n"
     ]
    }
   ],
   "source": [
    "import cv2\n",
    "print(\"opencv版本:%s\"% cv2.__version__)"
   ]
  },
  {
   "cell_type": "code",
   "execution_count": null,
   "metadata": {},
   "outputs": [],
   "source": []
  }
 ],
 "metadata": {
  "kernelspec": {
   "display_name": "Python 3",
   "language": "python",
   "name": "python3"
  },
  "language_info": {
   "codemirror_mode": {
    "name": "ipython",
    "version": 3
   },
   "file_extension": ".py",
   "mimetype": "text/x-python",
   "name": "python",
   "nbconvert_exporter": "python",
   "pygments_lexer": "ipython3",
   "version": "3.7.4"
  }
 },
 "nbformat": 4,
 "nbformat_minor": 2
}
