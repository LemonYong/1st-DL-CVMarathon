{
 "cells": [
  {
   "cell_type": "code",
   "execution_count": 2,
   "metadata": {},
   "outputs": [],
   "source": [
    "import cv2\n",
    "import time\n",
    "import numpy as np\n",
    "img = cv2.imread('C:/Users/Joker/Desktop/lena.png')"
   ]
  },
  {
   "cell_type": "code",
   "execution_count": 12,
   "metadata": {},
   "outputs": [
    {
     "name": "stdout",
     "output_type": "stream",
     "text": [
      "Rotation Matrix\n",
      "[[  0.35355339   0.35355339  74.98066402]\n",
      " [ -0.35355339   0.35355339 256.        ]]\n",
      "\n",
      "Translation Matrix\n",
      "[[  1.   0. 100.]\n",
      " [  0.   1. -50.]]\n"
     ]
    }
   ],
   "source": [
    "rows, cols = img.shape[:2]\n",
    "\n",
    "M_rotate = cv2.getRotationMatrix2D((rows//2, cols//2), 45 , 0.5)\n",
    "print('Rotation Matrix')\n",
    "print(M_rotate)\n",
    "print()\n",
    "\n",
    "#\n",
    "\n",
    "M_translate = np.array([[1, 0, 100], [0, 1, -50]], dtype=np.float32)\n",
    "print('Translation Matrix')\n",
    "print(M_translate)\n",
    "\n",
    "img_rotate = cv2.warpAffine(img, M_rotate, (cols, rows))\n",
    "\n",
    "img_rotate_trans = cv2.warpAffine(img_rotate, M_translate, (cols, rows))\n",
    "\n",
    "img_show_rotate_trans = np.hstack((img, img_rotate, img_rotate_trans))\n",
    "while True:\n",
    "    cv2.imshow('Rotate 45, scale 0.5, Translate x+100, y-50', img_show_rotate_trans)\n",
    "    k = cv2.waitKey(0)\n",
    "    if k == 27:\n",
    "        cv2.destroyAllWindows()\n",
    "        break"
   ]
  },
  {
   "cell_type": "code",
   "execution_count": 14,
   "metadata": {},
   "outputs": [
    {
     "name": "stdout",
     "output_type": "stream",
     "text": [
      "Rotation Matrix\n",
      "[[  0.35355339   0.35355339  74.98066402]\n",
      " [ -0.35355339   0.35355339 256.        ]]\n",
      "\n",
      "Translation Matrix\n",
      "[[  1.   0. 100.]\n",
      " [  0.   1. -50.]]\n"
     ]
    }
   ],
   "source": [
    "rows, cols = img.shape[:2]\n",
    "\n",
    "# 取得旋轉矩陣\n",
    "# getRotationMatrix2D(center, angle, scale)\n",
    "M_rotate = cv2.getRotationMatrix2D((cols//2, rows//2), 45, 0.5)\n",
    "print('Rotation Matrix')\n",
    "print(M_rotate)\n",
    "print()\n",
    "\n",
    "# 取得平移矩陣\n",
    "M_translate = np.array([[1, 0, 100], [0, 1, -50]], dtype=np.float32)\n",
    "print('Translation Matrix')\n",
    "print(M_translate)\n",
    "\n",
    "# 旋轉\n",
    "img_rotate = cv2.warpAffine(img, M_rotate, (cols, rows))\n",
    "\n",
    "# 平移\n",
    "img_rotate_trans = cv2.warpAffine(img_rotate, M_translate, (cols, rows))\n",
    "\n",
    "# 組合 + 顯示圖片\n",
    "img_show_rotate_trans = np.hstack((img, img_rotate, img_rotate_trans))\n",
    "while True:\n",
    "    cv2.imshow('Rotate 45, scale 0.5, Translate x+100, y-50', img_show_rotate_trans)\n",
    "    k = cv2.waitKey(0)\n",
    "    if k == 27:\n",
    "        cv2.destroyAllWindows()\n",
    "        break"
   ]
  },
  {
   "cell_type": "code",
   "execution_count": 15,
   "metadata": {},
   "outputs": [],
   "source": [
    "rows, cols = img.shape[:2]\n",
    "pt1 = np.array([[50,50], [300,100], [200,300]], dtype=np.float32)\n",
    "pt2 = np.array([[80,80], [330,150], [300,300]], dtype=np.float32)\n",
    "\n",
    "M_affine = cv2.getAffineTransform(pt1,pt2)\n",
    "img_affine = cv2.warpAffine(img, M_affine, (rows,cols))\n",
    "\n",
    "# 在圖片上標記點\n",
    "img_copy = img.copy()\n",
    "for idx, pts in enumerate(pt1):\n",
    "    pts = tuple(map(int, pts))\n",
    "    cv2.circle(img_copy, pts, 3, (0, 255, 0), -1)\n",
    "    cv2.putText(img_copy, str(idx), (pts[0]+5, pts[1]+5), cv2.FONT_HERSHEY_COMPLEX, 1, (0, 255, 0), 1)\n",
    "\n",
    "for idx, pts in enumerate(pt2):\n",
    "    pts = tuple(map(int, pts))\n",
    "    cv2.circle(img_affine, pts, 3, (0, 255, 0), -1)\n",
    "    cv2.putText(img_affine, str(idx), (pts[0]+5, pts[1]+5), cv2.FONT_HERSHEY_COMPLEX, 1, (0, 255, 0), 1)\n",
    "\n",
    "# 組合 + 顯示圖片\n",
    "img_show_affine = np.hstack((img_copy, img_affine))\n",
    "while True:\n",
    "    cv2.imshow('affine transformation', img_show_affine)\n",
    "    k = cv2.waitKey(0)\n",
    "    if k == 27:\n",
    "        cv2.destroyAllWindows()\n",
    "        break\n"
   ]
  },
  {
   "cell_type": "code",
   "execution_count": null,
   "metadata": {},
   "outputs": [],
   "source": []
  }
 ],
 "metadata": {
  "kernelspec": {
   "display_name": "Python 3",
   "language": "python",
   "name": "python3"
  },
  "language_info": {
   "codemirror_mode": {
    "name": "ipython",
    "version": 3
   },
   "file_extension": ".py",
   "mimetype": "text/x-python",
   "name": "python",
   "nbconvert_exporter": "python",
   "pygments_lexer": "ipython3",
   "version": "3.7.4"
  }
 },
 "nbformat": 4,
 "nbformat_minor": 2
}
