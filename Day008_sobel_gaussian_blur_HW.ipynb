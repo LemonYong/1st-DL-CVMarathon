{
 "cells": [
  {
   "cell_type": "code",
   "execution_count": 1,
   "metadata": {},
   "outputs": [],
   "source": [
    "import cv2\n",
    "import time\n",
    "import numpy as np\n",
    "img = cv2.imread('C:/Users/Joker/Desktop/lena.png')"
   ]
  },
  {
   "cell_type": "code",
   "execution_count": 3,
   "metadata": {},
   "outputs": [],
   "source": [
    "img_blur = img.copy()\n",
    "\n",
    "img_blur = cv2.GaussianBlur(img_blur,(5,5),0)\n",
    "img_blur = cv2.GaussianBlur(img_blur,(5,5),0)\n",
    "img_blur = cv2.GaussianBlur(img_blur,(5,5),0)\n",
    "\n",
    "img_show = np.hstack((img, img_blur))\n",
    "while True:\n",
    "    cv2.imshow('Gaussian Blur', img_show)\n",
    "    k = cv2.waitKey(0)\n",
    "    if k == 27:\n",
    "        cv2.destroyAllWindows()\n",
    "        break"
   ]
  },
  {
   "cell_type": "code",
   "execution_count": 6,
   "metadata": {},
   "outputs": [],
   "source": [
    "img_gray = cv2.cvtColor(img, cv2.COLOR_BGR2GRAY)\n",
    "img_soble_x = cv2.Sobel(img_gray, cv2.CV_16S, dx=1, dy=0, ksize=3)\n",
    "img_soble_y = cv2.Sobel(img_gray, cv2.CV_16S, dx=0, dy=1, ksize=3)\n",
    "\n",
    "img_sobel_x = cv2.convertScaleAbs(img_x)\n",
    "img_sobel_y = cv2.convertScaleAbs(img_y)\n",
    "\n",
    "img_sobel_combine = cv2.addWeighted(img_x, 0.5, img_y, 0.5, 0)\n",
    "\n",
    "#　組合 + 顯示圖片\n",
    "img_show = np.hstack((img_sobel_x, img_sobel_y, img_sobel_combine))\n",
    "while True:\n",
    "    cv2.imshow('Edge Detection', img_show)\n",
    "    k = cv2.waitKey(0)\n",
    "    if k == 27:\n",
    "        cv2.destroyAllWindows()\n",
    "        break"
   ]
  },
  {
   "cell_type": "code",
   "execution_count": 15,
   "metadata": {},
   "outputs": [
    {
     "name": "stdout",
     "output_type": "stream",
     "text": [
      "(512, 512)\n"
     ]
    }
   ],
   "source": [
    "img_grey = cv2.cvtColor(img, cv2.COLOR_BGR2GRAY)\n",
    "\n",
    "img_sobel_x = cv2.Sobel(img_grey, cv2.CV_16S, dx=1, dy=0, ksize=3)\n",
    "img_sobel_x = cv2.convertScaleAbs(img_x)\n",
    "\n",
    "img_sobel_x_uint8 = cv2.Sobel(img_grey, cv2.CV_8U, dx=1, dy=0, ksize=3)\n",
    "print(img_sobel_x_uint8.shape)\n",
    "#　組合 + 顯示圖片\n",
    "img_show = np.hstack(( img_sobel_x, img_sobel_x_uint8))\n",
    "while True:\n",
    "    # 比較 Sobel 邊緣檢測的過程中針對負數操作的不同產生的差異\n",
    "    cv2.imshow('Edge Detection', img_show)\n",
    "    k = cv2.waitKey(0)\n",
    "    if k == 27:\n",
    "        cv2.destroyAllWindows()\n",
    "        break"
   ]
  },
  {
   "cell_type": "code",
   "execution_count": 31,
   "metadata": {},
   "outputs": [],
   "source": [
    "img_grey = cv2.cvtColor(img, cv2.COLOR_BGR2GRAY)\n",
    "\n",
    "img_sobel_x = cv2.Sobel(img_grey, cv2.CV_16S, dx=1, dy=0, ksize=3)\n",
    "img_sobel_x = cv2.convertScaleAbs(img_sobel_x)\n",
    "\n",
    "img_sobel_xx  = cv2.Sobel(img_grey, cv2.CV_16S, dx=2, dy=0, ksize=3)\n",
    "img_sobel_xx = cv2.convertScaleAbs(img_sobel_xx)\n",
    "\n",
    "#　組合 + 顯示圖片\n",
    "img_show = np.hstack((img_grey, img_sobel_x, img_sobel_xx))\n",
    "while True:\n",
    "    cv2.imshow('Edge Detection', img_show)\n",
    "    k = cv2.waitKey(0)\n",
    "    if k == 27:\n",
    "        cv2.destroyAllWindows()\n",
    "        break"
   ]
  },
  {
   "cell_type": "code",
   "execution_count": 30,
   "metadata": {},
   "outputs": [],
   "source": []
  },
  {
   "cell_type": "code",
   "execution_count": null,
   "metadata": {},
   "outputs": [],
   "source": []
  }
 ],
 "metadata": {
  "kernelspec": {
   "display_name": "Python 3",
   "language": "python",
   "name": "python3"
  },
  "language_info": {
   "codemirror_mode": {
    "name": "ipython",
    "version": 3
   },
   "file_extension": ".py",
   "mimetype": "text/x-python",
   "name": "python",
   "nbconvert_exporter": "python",
   "pygments_lexer": "ipython3",
   "version": "3.7.4"
  }
 },
 "nbformat": 4,
 "nbformat_minor": 2
}
